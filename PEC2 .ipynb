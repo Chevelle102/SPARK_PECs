{
 "cells": [
  {
   "cell_type": "markdown",
   "metadata": {},
   "source": [
    "# PEC2\n",
    "\n",
    "![lego](https://kaggle2.blob.core.windows.net/datasets-images/1599/2846/759e9518355eabd33bd70f907e4f7992/dataset-cover.jpg)\n"
   ]
  },
  {
   "cell_type": "markdown",
   "metadata": {},
   "source": [
    "Vamos a trabajar sobre un dataset de LEGO, en el que tenemos diferentes ficheros/tablas.\n",
    "Éste es un esquema de las tablas que representan los CSV de datos que tenemos:\n",
    "\n",
    "![diagram](downloads_schema.png)"
   ]
  },
  {
   "cell_type": "markdown",
   "metadata": {},
   "source": [
    "## 1 Carga de Datos\n",
    "En la tabla `sets` tenemos los diferentes sets de lego, cada uno con su identificador, año y su \"temática\".\n",
    "En la tabla `themes` tenemos las diferentes temáticas de todos los sets de lego.\n",
    "Carga ambos DataFrames, y modifica el esquema si lo crees oportuno."
   ]
  },
  {
   "cell_type": "code",
   "execution_count": 1,
   "metadata": {},
   "outputs": [],
   "source": [
    "import findspark\n",
    "findspark.init()\n",
    "\n",
    "import pyspark\n",
    "sc = pyspark.SparkContext(appName='app15')\n",
    "sqlContext = pyspark.SQLContext(sc)"
   ]
  },
  {
   "cell_type": "code",
   "execution_count": 8,
   "metadata": {},
   "outputs": [],
   "source": [
    "colors =  sqlContext.read.option(\"header\", \"true\").format(\"csv\").load(\"data/colors.csv\")\n",
    "inventories = sqlContext.read.option(\"header\", \"true\").format(\"csv\").load(\"data/inventories.csv\")\n",
    "inventory_sets = sqlContext.read.option(\"header\", \"true\").format(\"csv\").load(\"data/inventory_sets.csv\")\n",
    "part_categories = sqlContext.read.option(\"header\", \"true\").format(\"csv\").load(\"data/part_categories.csv\")\n",
    "parts = sqlContext.read.option(\"header\", \"true\").format(\"csv\").load(\"data/parts.csv\")\n",
    "sets = sqlContext.read.option(\"header\", \"true\").format(\"csv\").load(\"data/sets.csv\")\n",
    "themes = sqlContext.read.option(\"header\", \"true\").format(\"csv\").load(\"data/themes.csv\")"
   ]
  },
  {
   "cell_type": "markdown",
   "metadata": {},
   "source": [
    "## 2 Joins\n",
    "Ahora queremos extraer **sólo** las siguientes columnas:\n",
    " - el identificador del set (`set_num`)\n",
    " - la temática del set (columna `name` de `themes`)\n",
    " - el nombre del set (columna `name` de `sets`)\n",
    " \n",
    "De todos los sets que contengan \"x-wing\" en su nombre, y sean posteriores a 2011.\n",
    "Ten en cuenta que \"x-wing\" puede aparecer en cualquier posición del nombre del set, y con cualquier composición de mayúsculas o minúsculas. (es decir, tienes que detectar apariciones de `x-wing`, `X-Wing`, `X-wing`...etc).\n",
    "\n",
    "Ten en cuenta que sólo queremos esas 3 columnas en el resultado."
   ]
  },
  {
   "cell_type": "code",
   "execution_count": 41,
   "metadata": {
    "collapsed": true
   },
   "outputs": [],
   "source": [
    "sets.createOrReplaceTempView(\"sets\")\n",
    "themes.createOrReplaceTempView(\"themes\")\n",
    "inventory_sets.createOrReplaceTempView(\"inventory_sets\")"
   ]
  },
  {
   "cell_type": "code",
   "execution_count": 40,
   "metadata": {},
   "outputs": [
    {
     "name": "stdout",
     "output_type": "stream",
     "text": [
      "+-------+--------------------+--------------------+\n",
      "|set_num|           name_sets|          name_theme|\n",
      "+-------+--------------------+--------------------+\n",
      "|30051-1|X-wing Fighter - ...|Star Wars Episode...|\n",
      "| 4484-1|X-wing Fighter & ...|                Mini|\n",
      "| 4502-1|X-wing Fighter (D...|Star Wars Episode...|\n",
      "| 4502-2|X-wing Fighter (D...|Star Wars Episode...|\n",
      "| 6212-1|      X-wing Fighter|Star Wars Episode...|\n",
      "|65145-1|X-wing Fighter / ...|Star Wars Episode...|\n",
      "|66221-1|X-wing Fighter an...|Star Wars Episode...|\n",
      "| 6963-1|X-wing Fighter - ...|                Mini|\n",
      "| 6963-2|X-wing Fighter - ...|                Mini|\n",
      "| 7140-1|      X-wing Fighter|Star Wars Episode...|\n",
      "| 7142-1|X-wing Fighter (r...|Star Wars Episode...|\n",
      "| 7191-1|X-wing Fighter - UCS|Star Wars Episode...|\n",
      "+-------+--------------------+--------------------+\n",
      "\n"
     ]
    }
   ],
   "source": [
    "sqlContext.sql(\"select a.set_num,a.name as name_sets,b.name as name_theme from sets a left join themes b on a.theme_id=b.id where lower(a.name) like ('%x-wing%') and a.year<2011\").show(1000)"
   ]
  },
  {
   "cell_type": "markdown",
   "metadata": {},
   "source": [
    "## 3 Más joins\n",
    "Ahora queremos que nuestro resultado incluya todos los sets de la temática Star wars (id = `158`), y además, para aquellos sets para los que exista información de \"inventario\" (tabla `inventory_sets`) queremos que aparezca también en el resultado.\n",
    "\n",
    "Es decir, el resultado debe incluír **todos los sets cuyo theme_id sea 158** y sólo las siguientes columnas:\n",
    " - `set_num`\n",
    " - `name` (nombre del set)\n",
    " - `inventory_id`\n",
    " - `quantity`\n",
    " \n",
    "Cuando no exista información de `inventory_id` ó `quantity` para un set determinado, queremos que los valores sean `null`."
   ]
  },
  {
   "cell_type": "code",
   "execution_count": 48,
   "metadata": {},
   "outputs": [
    {
     "name": "stdout",
     "output_type": "stream",
     "text": [
      "+-----------+--------------------+------------+--------+\n",
      "|    set_num|           name_sets|inventory_id|quantity|\n",
      "+-----------+--------------------+------------+--------+\n",
      "|    10018-1|          Darth Maul|        null|    null|\n",
      "|    11912-1|LEGO Star Wars: B...|        null|    null|\n",
      "|  2853835-1|White Boba Fett F...|        null|    null|\n",
      "|    30058-1|                STAP|        null|    null|\n",
      "|    30059-1|                 MTT|        null|    null|\n",
      "|    30246-1|    Imperial Shuttle|        null|    null|\n",
      "|    30247-1| ARC-170 Starfighter|        null|    null|\n",
      "|    30276-1|First Order Speci...|        null|    null|\n",
      "|    30602-1|First Order Storm...|        null|    null|\n",
      "|    30611-1|               R2-D2|        null|    null|\n",
      "|     4481-1|      Hailfire Droid|       11344|       1|\n",
      "|  4547551-1|Darth Vader 10 Ye...|        null|    null|\n",
      "|  5000067-1|  Star Wars Sith Kit|        null|    null|\n",
      "|  5001137-1|Battle Pack Colle...|        null|    null|\n",
      "|  5001308-1|The Old Republic ...|        null|    null|\n",
      "|  5001309-1|Return of the Jed...|        null|    null|\n",
      "|  5001621-1|     Han Solo (Hoth)|        null|    null|\n",
      "|  5002123-1|         Darth Revan|        null|    null|\n",
      "|  5002938-1|Stormtrooper Serg...|        null|    null|\n",
      "|  5002947-1|     Admiral Yularen|        null|    null|\n",
      "|    66395-1|Star Wars Super P...|        null|    null|\n",
      "|    66411-1|Star Wars Super P...|        null|    null|\n",
      "|    66431-1|Star Wars Super P...|        null|    null|\n",
      "|    66432-1|Star Wars Super P...|        null|    null|\n",
      "|    66449-1|Star Wars Super P...|        null|    null|\n",
      "|     7194-1|                Yoda|        null|    null|\n",
      "|    75001-1|Republic Troopers...|        null|    null|\n",
      "|    75007-1|Republic Assault ...|        null|    null|\n",
      "|    75029-1|                 AAT|       12222|       1|\n",
      "|    75034-1| Death Star Troopers|        null|    null|\n",
      "|    75035-1|   Kashyyyk Troopers|       12813|       1|\n",
      "|    75036-1|     Utapau Troopers|        null|    null|\n",
      "|    75037-1| Battle on Saleucami|        4941|       1|\n",
      "|    75038-1|    Jedi Interceptor|        4941|       1|\n",
      "|    75039-1|  V-Wing Starfighter|        null|    null|\n",
      "|    75040-1|General Grievous'...|        null|    null|\n",
      "|    75041-1|       Vulture Droid|        null|    null|\n",
      "|    75042-1|       Droid Gunship|        null|    null|\n",
      "|    75043-1|               AT-AP|       12813|       1|\n",
      "|    75044-1|   Droid Tri-Fighter|        null|    null|\n",
      "|    75045-1|Republic AV-7 Ant...|        4941|       1|\n",
      "|    75046-1|Coruscant Police ...|        null|    null|\n",
      "|    75049-1|         Snowspeeder|        null|    null|\n",
      "|    75050-1|              B-Wing|        null|    null|\n",
      "|    75051-1|  Jedi Scout Fighter|        null|    null|\n",
      "|    75055-1|Imperial Star Des...|        null|    null|\n",
      "|    75094-1|Imperial Shuttle ...|        null|    null|\n",
      "|    75095-1|     UCS TIE Fighter|        null|    null|\n",
      "|    75099-1|      Rey's Speeder™|        null|    null|\n",
      "|    75100-1|First Order Snows...|        null|    null|\n",
      "|    75101-1|First Order Speci...|        null|    null|\n",
      "|    75102-1|Poe’s X-Wing Figh...|        null|    null|\n",
      "|    75103-1|First Order Trans...|        null|    null|\n",
      "|    75104-1|Kylo Ren’s Comman...|        null|    null|\n",
      "|    75105-1|  Millennium Falcon™|        null|    null|\n",
      "|    75107-1|         Jango Fett™|        null|    null|\n",
      "|    75108-1|Clone Commander C...|        null|    null|\n",
      "|    75109-1|     Obi-Wan Kenobi™|        null|    null|\n",
      "|    75110-1|     Luke Skywalker™|        null|    null|\n",
      "|    75111-1|        Darth Vader™|        null|    null|\n",
      "|    75112-1|   General Grievous™|        null|    null|\n",
      "|    75133-1|Rebel Alliance Ba...|        null|    null|\n",
      "|    75134-1|Galactic Empire™ ...|        null|    null|\n",
      "|    75144-1|         Snowspeeder|        null|    null|\n",
      "|    75159-1|          Death Star|        null|    null|\n",
      "|      75160|              U-wing|        null|    null|\n",
      "|    75162-1|              Y-wing|        null|    null|\n",
      "|    75167-1|\"Bounty Hunter Sp...|        null|    null|\n",
      "|    75174-1| Desert Skiff Escape|        null|    null|\n",
      "|    75175-1|  A-Wing Starfighter|        null|    null|\n",
      "|    75178-1|    Jakku Quadjumper|        null|    null|\n",
      "|    75185-1|           Tracker I|        null|    null|\n",
      "|    75186-1|       The Arrowhead|        null|    null|\n",
      "|    75523-1| Scarif Stormtrooper|        null|    null|\n",
      "|    75524-1|        Chirrut Îmwe|        null|    null|\n",
      "|    75525-1|         Baze Malbus|        null|    null|\n",
      "|    75531-1|\"Stormtrooper\"\" C...|        null|    null|\n",
      "|     8000-1|Pit Droid™ / Star...|        null|    null|\n",
      "|     8001-1|Battle Droid™ / S...|        null|    null|\n",
      "|     8002-1|Destroyer Droid™ ...|        null|    null|\n",
      "|     8007-1|              C-3PO™|        null|    null|\n",
      "|     8008-1|       Stormtrooper™|        6181|       1|\n",
      "|     8009-1|              R2-D2™|        null|    null|\n",
      "|     8010-1|        Darth Vader™|        6181|       1|\n",
      "|     8011-1|         Jango Fett™|        null|    null|\n",
      "|     8012-1| Super Battle Droid™|        null|    null|\n",
      "|   911611-1|                 AAT|        null|    null|\n",
      "|   911614-1|          Yoda's Hut|        null|    null|\n",
      "|   911615-1|               AT-AT|        null|    null|\n",
      "|   911618-1|       Flash Speeder|        null|    null|\n",
      "|     9497-1|Republic Striker ...|        3110|       1|\n",
      "|celeb2015-1|Tatooine Mini-bui...|        null|    null|\n",
      "|comcon015-1|Star Wars Advent ...|        null|    null|\n",
      "|comcon019-1|Darth Maul’s Sith...|        null|    null|\n",
      "|comcon032-1|JEK-14 Mini Steal...|        null|    null|\n",
      "|  MAY2013-1|      Holocron Droid|        null|    null|\n",
      "| SDCC2015-2|  Dagobah Mini-Build|        null|    null|\n",
      "| SW911511-1|   Jedi Weapon Stand|        null|    null|\n",
      "| SW911607-1|  Millennium Falcon |        null|    null|\n",
      "| SW911610-1|         Probe Droid|        null|    null|\n",
      "| SW911616-1|       MTT Foil Pack|        null|    null|\n",
      "| SW911617-1| Palpatine's Shuttle|        null|    null|\n",
      "| SW911722-1|TIE Advanced foil...|        null|    null|\n",
      "|TRUFALCON-1|   Millennium Falcon|        null|    null|\n",
      "| TRUXWING-2|Poe's X-Wing Fighter|        null|    null|\n",
      "+-----------+--------------------+------------+--------+\n",
      "\n"
     ]
    }
   ],
   "source": [
    "sqlContext.sql(\"select a.set_num,a.name as name_sets,c.inventory_id,c.quantity \\\n",
    "               from sets a \\\n",
    "               left join themes b on a.theme_id=b.id \\\n",
    "               left join inventory_sets c on a.set_num = c.set_num \\\n",
    "               where b.id=158\").show(10000)"
   ]
  },
  {
   "cell_type": "code",
   "execution_count": null,
   "metadata": {
    "collapsed": true
   },
   "outputs": [],
   "source": []
  }
 ],
 "metadata": {
  "kernelspec": {
   "display_name": "Python 3",
   "language": "python",
   "name": "python3"
  },
  "language_info": {
   "codemirror_mode": {
    "name": "ipython",
    "version": 3
   },
   "file_extension": ".py",
   "mimetype": "text/x-python",
   "name": "python",
   "nbconvert_exporter": "python",
   "pygments_lexer": "ipython3",
   "version": "3.6.1"
  }
 },
 "nbformat": 4,
 "nbformat_minor": 2
}
